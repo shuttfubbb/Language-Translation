{
 "cells": [
  {
   "cell_type": "code",
   "execution_count": 1,
   "id": "8a4cb483-0a7c-4a41-93ab-e3914ea53964",
   "metadata": {},
   "outputs": [],
   "source": [
    "from pathlib import Path\n",
    "import torch\n",
    "import torch.nn as nn\n",
    "from config import get_config, get_weights_file_path\n",
    "from train import get_model, get_ds, run_validation"
   ]
  },
  {
   "cell_type": "code",
   "execution_count": 2,
   "id": "c0770a1a-ee6b-48d7-8cc4-b6435f1d9529",
   "metadata": {},
   "outputs": [
    {
     "name": "stdout",
     "output_type": "stream",
     "text": [
      "Using device: cuda\n",
      "Max length of source sentence: 309\n",
      "Max length of target sentence: 274\n"
     ]
    },
    {
     "data": {
      "text/plain": [
       "<All keys matched successfully>"
      ]
     },
     "execution_count": 2,
     "metadata": {},
     "output_type": "execute_result"
    }
   ],
   "source": [
    "# Define the device\n",
    "device = torch.device(\"cuda\" if torch.cuda.is_available() else \"cpu\")\n",
    "print(\"Using device:\", device)\n",
    "config = get_config()\n",
    "train_dataloader, val_dataloader, tokenizer_src, tokenizer_tgt = get_ds(config)\n",
    "model = get_model(config, tokenizer_src.get_vocab_size(), tokenizer_tgt.get_vocab_size()).to(device)\n",
    "\n",
    "# Load the pretrained weights\n",
    "model_filename = get_weights_file_path(config, f\"00\")\n",
    "state = torch.load(model_filename)\n",
    "model.load_state_dict(state['model_state_dict'])"
   ]
  },
  {
   "cell_type": "code",
   "execution_count": 3,
   "id": "717d86f4-7c53-4505-9f60-defa4164a780",
   "metadata": {},
   "outputs": [
    {
     "name": "stdout",
     "output_type": "stream",
     "text": [
      "--------------------------------------------------------------------------------\n",
      "    SOURCE: She fancied that presently the steward would come and turn her out of the house and that her disgrace would be proclaimed to all the world.\n",
      "    TARGET: Le venne in mente che sarebbe venuto subito l’intendente a cacciarla di casa, che il suo disonore sarebbe stato rivelato a tutto il mondo.\n",
      " PREDICTED: La sua cosa era un ’ altra di un ’ altra di un ’ altra di un ’ altra di lui .\n",
      "--------------------------------------------------------------------------------\n",
      "    SOURCE: Alice began to feel very uneasy: to be sure, she had not as yet had any dispute with the Queen, but she knew that it might happen any minute, 'and then,' thought she, 'what would become of me?\n",
      "    TARGET: — Alice cominciò a sentirsi un po' a disagio: e vero che non aveva avuto nulla da dire con la Regina; ma poteva succedere da un momento all'altro, e pensò: “Che avverrà di me?\n",
      " PREDICTED: — Ma non è un ’ uomo che non è un ’ altra , ma non è un ’ altra di lui , ma che non è un ’ altro che non è mai .\n",
      "--------------------------------------------------------------------------------\n",
      "    SOURCE: But what that inevitable Death was, he not only did not know, not only had never considered, but could not and dared not consider.\n",
      "    TARGET: E cosa fosse questa morte inevitabile, egli non solo non lo sapeva, né mai ci aveva neppure pensato, ma non sapeva e non osava pensarci.\n",
      " PREDICTED: Ma non non non non non non non non non non non non si .\n",
      "--------------------------------------------------------------------------------\n",
      "    SOURCE: For he can thoroughly enjoy\n",
      "    TARGET: lui se vuole può mangiare\n",
      " PREDICTED: Ma non è .\n",
      "--------------------------------------------------------------------------------\n",
      "    SOURCE: 'Because everybody knows it.'\n",
      "    TARGET: — Perché tutti lo sanno.\n",
      " PREDICTED: — Ma non è .\n",
      "--------------------------------------------------------------------------------\n",
      "    SOURCE: He was really dissatisfied, not because they had spent so much but because he had been reminded of a matter which, well knowing that something was wrong, he wished to forget.\n",
      "    TARGET: Realmente egli era contrariato, non che se ne andassero molti denari, ma che gli si ricordasse quello che lui, sapendo che v’era qualcosa che non andava, voleva dimenticare.\n",
      " PREDICTED: Ma non si era mai mai , ma non non si , ma non si , ma non si , ma non si .\n",
      "--------------------------------------------------------------------------------\n",
      "    SOURCE: When I do like that, he quite brightens up, the dear!\n",
      "    TARGET: Appena faccio così, lui si rischiara, golubcik.\n",
      " PREDICTED: Ma non ho detto che non è un ’ altra .\n",
      "--------------------------------------------------------------------------------\n",
      "    SOURCE: \"I had better not pass my word: I might be obliged to break it.\"\n",
      "    TARGET: — Faccio meglio a non farvi questa promessa, perché potrei mancarvi.\n",
      " PREDICTED: — Ma non mi , ma non mi .\n",
      "--------------------------------------------------------------------------------\n",
      "    SOURCE: Our disagreement lies in the fact that you consider personal interests the motive power, while I think every man with a certain degree of education ought to be interested in the general welfare.\n",
      "    TARGET: Il nostro disaccordo consiste in questo: che tu poni come movente l’interesse personale, e io suppongo che ogni uomo che abbia un certo grado di cultura debba interessarsi del bene comune.\n",
      " PREDICTED: Ma non ho detto che non mi , ma non mi , e che non si , e che non si .\n",
      "--------------------------------------------------------------------------------\n",
      "    SOURCE: \"This will be your luggage, I suppose?\" said the man rather abruptly when he saw me, pointing to my trunk in the passage.\n",
      "    TARGET: — È quello il vostro bagaglio? — domandò bruscamente accennando il baule.\n",
      " PREDICTED: — Ma non ho mai mai mai ? — disse , che non mi .\n",
      "--------------------------------------------------------------------------------\n"
     ]
    }
   ],
   "source": [
    "run_validation(model, val_dataloader, tokenizer_src, tokenizer_tgt, config['seq_len'], device, lambda msg: print(msg), 0, None, num_examples=10)\n"
   ]
  }
 ],
 "metadata": {
  "kernelspec": {
   "display_name": "Python 3 (ipykernel)",
   "language": "python",
   "name": "python3"
  },
  "language_info": {
   "codemirror_mode": {
    "name": "ipython",
    "version": 3
   },
   "file_extension": ".py",
   "mimetype": "text/x-python",
   "name": "python",
   "nbconvert_exporter": "python",
   "pygments_lexer": "ipython3",
   "version": "3.11.9"
  }
 },
 "nbformat": 4,
 "nbformat_minor": 5
}
